{
 "cells": [
  {
   "cell_type": "markdown",
   "id": "79393a23",
   "metadata": {
    "papermill": {
     "duration": 0.003078,
     "end_time": "2023-01-15T09:28:15.798249",
     "exception": false,
     "start_time": "2023-01-15T09:28:15.795171",
     "status": "completed"
    },
    "tags": []
   },
   "source": [
    "# TRAIN notebook\n",
    "cometition : RSNA Screening Mammography Breast Cancer Detection  \n",
    "url : https://www.kaggle.com/competitions/rsna-breast-cancer-detection  "
   ]
  },
  {
   "cell_type": "markdown",
   "id": "73c9183d",
   "metadata": {
    "papermill": {
     "duration": 0.00171,
     "end_time": "2023-01-15T09:28:15.802202",
     "exception": false,
     "start_time": "2023-01-15T09:28:15.800492",
     "status": "completed"
    },
    "tags": []
   },
   "source": [
    "## import"
   ]
  },
  {
   "cell_type": "code",
   "execution_count": 1,
   "id": "52441775",
   "metadata": {
    "execution": {
     "iopub.execute_input": "2023-01-15T09:28:15.808212Z",
     "iopub.status.busy": "2023-01-15T09:28:15.807558Z",
     "iopub.status.idle": "2023-01-15T09:28:15.820233Z",
     "shell.execute_reply": "2023-01-15T09:28:15.819287Z"
    },
    "papermill": {
     "duration": 0.01849,
     "end_time": "2023-01-15T09:28:15.822589",
     "exception": false,
     "start_time": "2023-01-15T09:28:15.804099",
     "status": "completed"
    },
    "tags": []
   },
   "outputs": [],
   "source": [
    "import os"
   ]
  },
  {
   "cell_type": "code",
   "execution_count": 2,
   "id": "9435dc63",
   "metadata": {
    "execution": {
     "iopub.execute_input": "2023-01-15T09:28:15.828103Z",
     "iopub.status.busy": "2023-01-15T09:28:15.827732Z",
     "iopub.status.idle": "2023-01-15T09:28:15.831844Z",
     "shell.execute_reply": "2023-01-15T09:28:15.830930Z"
    },
    "papermill": {
     "duration": 0.009185,
     "end_time": "2023-01-15T09:28:15.833835",
     "exception": false,
     "start_time": "2023-01-15T09:28:15.824650",
     "status": "completed"
    },
    "tags": []
   },
   "outputs": [],
   "source": [
    "# log用\n",
    "os.mkdir('./logs')"
   ]
  },
  {
   "cell_type": "code",
   "execution_count": null,
   "id": "882af76b",
   "metadata": {
    "papermill": {
     "duration": 0.001604,
     "end_time": "2023-01-15T09:28:15.837404",
     "exception": false,
     "start_time": "2023-01-15T09:28:15.835800",
     "status": "completed"
    },
    "tags": []
   },
   "outputs": [],
   "source": []
  }
 ],
 "metadata": {
  "kernelspec": {
   "display_name": "Python 3",
   "language": "python",
   "name": "python3"
  },
  "language_info": {
   "codemirror_mode": {
    "name": "ipython",
    "version": 3
   },
   "file_extension": ".py",
   "mimetype": "text/x-python",
   "name": "python",
   "nbconvert_exporter": "python",
   "pygments_lexer": "ipython3",
   "version": "3.7.12"
  },
  "papermill": {
   "default_parameters": {},
   "duration": 9.205364,
   "end_time": "2023-01-15T09:28:16.461513",
   "environment_variables": {},
   "exception": null,
   "input_path": "__notebook__.ipynb",
   "output_path": "__notebook__.ipynb",
   "parameters": {},
   "start_time": "2023-01-15T09:28:07.256149",
   "version": "2.3.4"
  }
 },
 "nbformat": 4,
 "nbformat_minor": 5
}
