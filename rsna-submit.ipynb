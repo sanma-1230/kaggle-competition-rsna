{
 "cells": [
  {
   "cell_type": "markdown",
   "id": "c7122c5d",
   "metadata": {
    "papermill": {
     "duration": 0.003924,
     "end_time": "2023-02-14T08:13:07.775874",
     "exception": false,
     "start_time": "2023-02-14T08:13:07.771950",
     "status": "completed"
    },
    "tags": []
   },
   "source": [
    "# SUBMIT notebook\n",
    "competition : RSNA Screening Mammography Breast Cancer Detection  \n",
    "url : https://www.kaggle.com/competitions/rsna-breast-cancer-detection"
   ]
  },
  {
   "cell_type": "markdown",
   "id": "0431ab25",
   "metadata": {
    "papermill": {
     "duration": 0.002857,
     "end_time": "2023-02-14T08:13:07.781843",
     "exception": false,
     "start_time": "2023-02-14T08:13:07.778986",
     "status": "completed"
    },
    "tags": []
   },
   "source": [
    "## import"
   ]
  },
  {
   "cell_type": "code",
   "execution_count": 1,
   "id": "50fcc14e",
   "metadata": {
    "execution": {
     "iopub.execute_input": "2023-02-14T08:13:07.789404Z",
     "iopub.status.busy": "2023-02-14T08:13:07.788867Z",
     "iopub.status.idle": "2023-02-14T08:13:29.087697Z",
     "shell.execute_reply": "2023-02-14T08:13:29.086568Z"
    },
    "papermill": {
     "duration": 21.305414,
     "end_time": "2023-02-14T08:13:29.090110",
     "exception": false,
     "start_time": "2023-02-14T08:13:07.784696",
     "status": "completed"
    },
    "tags": []
   },
   "outputs": [
    {
     "name": "stdout",
     "output_type": "stream",
     "text": [
      "Looking in links: /kaggle/input/dicom-whls\r\n",
      "Requirement already satisfied: pydicom in /opt/conda/lib/python3.7/site-packages (2.3.1)\r\n",
      "Processing /kaggle/input/dicom-whls/pylibjpeg-1.4.0-py3-none-any.whl\r\n",
      "Requirement already satisfied: numpy in /opt/conda/lib/python3.7/site-packages (from pylibjpeg) (1.21.6)\r\n",
      "Installing collected packages: pylibjpeg\r\n",
      "Successfully installed pylibjpeg-1.4.0\r\n",
      "\u001b[33mWARNING: Running pip as the 'root' user can result in broken permissions and conflicting behaviour with the system package manager. It is recommended to use a virtual environment instead: https://pip.pypa.io/warnings/venv\u001b[0m\u001b[33m\r\n",
      "\u001b[0mLooking in links: /kaggle/input/rsna-datasets/ENV\r\n",
      "Processing /kaggle/input/rsna-datasets/ENV/python_gdcm-3.0.21-cp37-cp37m-manylinux_2_17_x86_64.manylinux2014_x86_64.whl\r\n",
      "Installing collected packages: python_gdcm\r\n",
      "Successfully installed python_gdcm-3.0.21\r\n",
      "\u001b[33mWARNING: Running pip as the 'root' user can result in broken permissions and conflicting behaviour with the system package manager. It is recommended to use a virtual environment instead: https://pip.pypa.io/warnings/venv\u001b[0m\u001b[33m\r\n",
      "\u001b[0m"
     ]
    }
   ],
   "source": [
    "!python -m pip install --no-index --find-links=/kaggle/input/dicom-whls pydicom pylibjpeg\n",
    "!python -m pip install --no-index --find-links=/kaggle/input/rsna-datasets/ENV python_gdcm"
   ]
  },
  {
   "cell_type": "code",
   "execution_count": 2,
   "id": "4db15ce9",
   "metadata": {
    "execution": {
     "iopub.execute_input": "2023-02-14T08:13:29.098941Z",
     "iopub.status.busy": "2023-02-14T08:13:29.098638Z",
     "iopub.status.idle": "2023-02-14T08:13:33.883584Z",
     "shell.execute_reply": "2023-02-14T08:13:33.882247Z"
    },
    "papermill": {
     "duration": 4.792462,
     "end_time": "2023-02-14T08:13:33.886593",
     "exception": false,
     "start_time": "2023-02-14T08:13:29.094131",
     "status": "completed"
    },
    "tags": []
   },
   "outputs": [],
   "source": [
    "import sys\n",
    "sys.path.append('../input/timm-pytorch-image-models/pytorch-image-models-master')\n",
    "import timm\n",
    "\n",
    "import pandas as pd\n",
    "import numpy as np\n",
    "from torch.utils.data import Dataset, DataLoader\n",
    "import cv2\n",
    "import PIL\n",
    "import pydicom\n",
    "import gdcm\n",
    "import pylibjpeg\n",
    "import torch\n",
    "import torch.nn as nn\n",
    "import torch.optim as optim\n",
    "from sklearn.model_selection import train_test_split\n",
    "import matplotlib.pyplot as plt\n",
    "import tqdm\n",
    "import os\n",
    "os.environ['CUDA_LAUNCH_BLOCKING'] = \"1\""
   ]
  },
  {
   "cell_type": "code",
   "execution_count": 3,
   "id": "cbcea9ef",
   "metadata": {
    "execution": {
     "iopub.execute_input": "2023-02-14T08:13:33.898016Z",
     "iopub.status.busy": "2023-02-14T08:13:33.897203Z",
     "iopub.status.idle": "2023-02-14T08:13:33.910182Z",
     "shell.execute_reply": "2023-02-14T08:13:33.909111Z"
    },
    "papermill": {
     "duration": 0.020925,
     "end_time": "2023-02-14T08:13:33.912552",
     "exception": false,
     "start_time": "2023-02-14T08:13:33.891627",
     "status": "completed"
    },
    "tags": []
   },
   "outputs": [],
   "source": [
    "def transform_image(paths, side='left', size=512, threshold=0.05):\n",
    "    dicom_data = pydicom.dcmread(paths)\n",
    "    data = np.array(dicom_data.pixel_array)\n",
    "    data = data - np.min(data)\n",
    "    data = data / np.max(data)\n",
    "    if dicom_data.PhotometricInterpretation == \"MONOCHROME1\":\n",
    "        data = 1.0 - data\n",
    "    image = data[5:-5, 5:-5]\n",
    "\n",
    "    ret, thresh = cv2.threshold(image, threshold, 1, 0)\n",
    "\n",
    "    width = image.shape[1]\n",
    "    # take all columns up to half image (in width), sumarize them and compare with other half\n",
    "    if sum(sum(thresh[:, :width // 2])) > sum(sum(thresh[:, width // 2:])): \n",
    "        image_side = 'left'\n",
    "    else:\n",
    "        image_side = 'right'\n",
    "\n",
    "    if image_side != side: \n",
    "        image = cv2.flip(image, 1)\n",
    "    output= cv2.connectedComponentsWithStats((image > 0.05).astype(np.uint8)[:, :], 8, cv2.CV_32S)\n",
    "    stats = output[2] # left, top, width, height, area_size\n",
    "\n",
    "    idx = stats[1:, 4].argmax() + 1\n",
    "    x1, y1, w, h = stats[idx][:4]\n",
    "    x2 = x1 + w\n",
    "    y2 = y1 + h\n",
    "\n",
    "    image = image[y1: y2, x1: x2]\n",
    "    image = cv2.resize(image, (size, size))\n",
    "    return image\n",
    "\n",
    "def submit_df(sample_df, value_df):\n",
    "    for i in range(sample_df.shape[0]):\n",
    "        id_ = sample_df.prediction_id[i]\n",
    "        p = value_df[id_]\n",
    "        sample_df.loc[i, 'cancer'] = p\n",
    "    return sample_df"
   ]
  },
  {
   "cell_type": "code",
   "execution_count": 4,
   "id": "23073d05",
   "metadata": {
    "execution": {
     "iopub.execute_input": "2023-02-14T08:13:33.921352Z",
     "iopub.status.busy": "2023-02-14T08:13:33.920818Z",
     "iopub.status.idle": "2023-02-14T08:13:33.930552Z",
     "shell.execute_reply": "2023-02-14T08:13:33.929715Z"
    },
    "papermill": {
     "duration": 0.016343,
     "end_time": "2023-02-14T08:13:33.932733",
     "exception": false,
     "start_time": "2023-02-14T08:13:33.916390",
     "status": "completed"
    },
    "tags": []
   },
   "outputs": [],
   "source": [
    "class Model_from_timm(nn.Module):\n",
    "    def __init__(self, model_name:str, pretrained:bool=False):\n",
    "        super().__init__()\n",
    "        self.backbone = timm.create_model(model_name, pretrained=pretrained, in_chans=1, num_classes=0)\n",
    "        self.in_features = self.backbone.num_features\n",
    "        \n",
    "        self.head = nn.Sequential(\n",
    "            nn.Linear(self.in_features, 100),\n",
    "            nn.ReLU(),\n",
    "            nn.Dropout(),\n",
    "            nn.Linear(100, 1),\n",
    "            nn.Sigmoid()\n",
    "        )\n",
    "    \n",
    "    def forward(self, x):\n",
    "        h = self.backbone(x)\n",
    "        y = self.head(h)\n",
    "        return y\n",
    "\n",
    "\n",
    "class SubmitDataset(Dataset):\n",
    "    def __init__(self, df):\n",
    "        super().__init__()\n",
    "        self.df = df\n",
    "    \n",
    "    def __len__(self):\n",
    "        return len(self.df)\n",
    "    \n",
    "    def __getitem__(self, index):\n",
    "        f = self.df.filename.tolist()[index]\n",
    "        image = transform_image(f)\n",
    "        image = torch.Tensor(image)\n",
    "        pred_id = self.df.prediction_id.tolist()[index]\n",
    "        send = {'image': image, 'prediction_id': pred_id}\n",
    "        return send"
   ]
  },
  {
   "cell_type": "code",
   "execution_count": 5,
   "id": "4007b213",
   "metadata": {
    "execution": {
     "iopub.execute_input": "2023-02-14T08:13:33.940600Z",
     "iopub.status.busy": "2023-02-14T08:13:33.940333Z",
     "iopub.status.idle": "2023-02-14T08:13:33.973106Z",
     "shell.execute_reply": "2023-02-14T08:13:33.972217Z"
    },
    "papermill": {
     "duration": 0.038879,
     "end_time": "2023-02-14T08:13:33.975110",
     "exception": false,
     "start_time": "2023-02-14T08:13:33.936231",
     "status": "completed"
    },
    "tags": []
   },
   "outputs": [],
   "source": [
    "test = pd.read_csv('/kaggle/input/rsna-breast-cancer-detection/test.csv')\n",
    "test['filename'] = test.apply(lambda x: '/kaggle/input/rsna-breast-cancer-detection/test_images/'+str(x.patient_id)+'/'+str(x.image_id)+'.dcm', axis=1) \n",
    "sample = pd.read_csv('/kaggle/input/rsna-breast-cancer-detection/sample_submission.csv')"
   ]
  },
  {
   "cell_type": "code",
   "execution_count": 6,
   "id": "46d0ac01",
   "metadata": {
    "execution": {
     "iopub.execute_input": "2023-02-14T08:13:33.983413Z",
     "iopub.status.busy": "2023-02-14T08:13:33.982552Z",
     "iopub.status.idle": "2023-02-14T08:13:33.990146Z",
     "shell.execute_reply": "2023-02-14T08:13:33.989338Z"
    },
    "papermill": {
     "duration": 0.013708,
     "end_time": "2023-02-14T08:13:33.992135",
     "exception": false,
     "start_time": "2023-02-14T08:13:33.978427",
     "status": "completed"
    },
    "tags": []
   },
   "outputs": [],
   "source": [
    "def sub_net(dataloader, model, device):\n",
    "    model = model.eval()\n",
    "    preds_lis = []\n",
    "    id_lis = []\n",
    "    model.to(device)\n",
    "    for i, data in enumerate(dataloader):\n",
    "        with torch.no_grad():\n",
    "            inputs, pred_id = data['image'], data['prediction_id']\n",
    "            inputs = inputs.to(device)\n",
    "            inputs = inputs.unsqueeze(dim=1)\n",
    "            inputs.to(device)\n",
    "            \n",
    "            output = model(inputs)\n",
    "            preds_lis.append(output)\n",
    "            id_lis.append(pred_id)\n",
    "    return preds_lis, id_lis\n",
    "\n",
    "def convert(lists):\n",
    "    tmp = []\n",
    "    for i in range(len(lists)):\n",
    "        x = lists[i].tolist()\n",
    "        for j in range(len(x)):\n",
    "            tmp.append(x[j][0])\n",
    "    return tmp\n"
   ]
  },
  {
   "cell_type": "code",
   "execution_count": 7,
   "id": "6ce1c2cb",
   "metadata": {
    "execution": {
     "iopub.execute_input": "2023-02-14T08:13:34.000321Z",
     "iopub.status.busy": "2023-02-14T08:13:33.999477Z",
     "iopub.status.idle": "2023-02-14T08:13:52.218344Z",
     "shell.execute_reply": "2023-02-14T08:13:52.217348Z"
    },
    "papermill": {
     "duration": 18.225205,
     "end_time": "2023-02-14T08:13:52.220746",
     "exception": false,
     "start_time": "2023-02-14T08:13:33.995541",
     "status": "completed"
    },
    "tags": []
   },
   "outputs": [],
   "source": [
    "MODEL_NAME = 'vgg11'\n",
    "MODEL_W_PATH = '/kaggle/input/rsna-datasets/vgg11_230214.pth'\n",
    "\n",
    "device = torch.device('cuda') if torch.cuda.is_available() else torch.device('cpu')\n",
    "model = Model_from_timm(MODEL_NAME)\n",
    "model.load_state_dict(torch.load(MODEL_W_PATH))\n",
    "submit_dataset = SubmitDataset(test)\n",
    "submit_dataloader = DataLoader(submit_dataset, batch_size=16)\n",
    "preds_lis, id_lis = sub_net(dataloader=submit_dataloader, model=model, device=device)\n",
    "preds_lis = convert(preds_lis)\n",
    "try:\n",
    "    id_lis = convert(id_lis)\n",
    "except:\n",
    "    id_lis = id_lis[0]\n",
    "sub_df = pd.DataFrame(data={'prediction_id': id_lis, 'cancer': preds_lis})\n",
    "tmp = sub_df.groupby('prediction_id')['cancer'].mean()\n",
    "submit = submit_df(sample, tmp)"
   ]
  },
  {
   "cell_type": "code",
   "execution_count": 8,
   "id": "f9231ffd",
   "metadata": {
    "execution": {
     "iopub.execute_input": "2023-02-14T08:13:52.228874Z",
     "iopub.status.busy": "2023-02-14T08:13:52.228585Z",
     "iopub.status.idle": "2023-02-14T08:13:52.242904Z",
     "shell.execute_reply": "2023-02-14T08:13:52.241712Z"
    },
    "papermill": {
     "duration": 0.021242,
     "end_time": "2023-02-14T08:13:52.245565",
     "exception": false,
     "start_time": "2023-02-14T08:13:52.224323",
     "status": "completed"
    },
    "tags": []
   },
   "outputs": [
    {
     "data": {
      "text/html": [
       "<div>\n",
       "<style scoped>\n",
       "    .dataframe tbody tr th:only-of-type {\n",
       "        vertical-align: middle;\n",
       "    }\n",
       "\n",
       "    .dataframe tbody tr th {\n",
       "        vertical-align: top;\n",
       "    }\n",
       "\n",
       "    .dataframe thead th {\n",
       "        text-align: right;\n",
       "    }\n",
       "</style>\n",
       "<table border=\"1\" class=\"dataframe\">\n",
       "  <thead>\n",
       "    <tr style=\"text-align: right;\">\n",
       "      <th></th>\n",
       "      <th>prediction_id</th>\n",
       "      <th>cancer</th>\n",
       "    </tr>\n",
       "  </thead>\n",
       "  <tbody>\n",
       "    <tr>\n",
       "      <th>0</th>\n",
       "      <td>10008_L</td>\n",
       "      <td>0.503258</td>\n",
       "    </tr>\n",
       "    <tr>\n",
       "      <th>1</th>\n",
       "      <td>10008_R</td>\n",
       "      <td>0.502914</td>\n",
       "    </tr>\n",
       "  </tbody>\n",
       "</table>\n",
       "</div>"
      ],
      "text/plain": [
       "  prediction_id    cancer\n",
       "0       10008_L  0.503258\n",
       "1       10008_R  0.502914"
      ]
     },
     "metadata": {},
     "output_type": "display_data"
    }
   ],
   "source": [
    "display(submit)"
   ]
  },
  {
   "cell_type": "code",
   "execution_count": 9,
   "id": "10f6da0b",
   "metadata": {
    "execution": {
     "iopub.execute_input": "2023-02-14T08:13:52.253394Z",
     "iopub.status.busy": "2023-02-14T08:13:52.253108Z",
     "iopub.status.idle": "2023-02-14T08:13:52.260230Z",
     "shell.execute_reply": "2023-02-14T08:13:52.259423Z"
    },
    "papermill": {
     "duration": 0.013164,
     "end_time": "2023-02-14T08:13:52.262115",
     "exception": false,
     "start_time": "2023-02-14T08:13:52.248951",
     "status": "completed"
    },
    "tags": []
   },
   "outputs": [],
   "source": [
    "submit.to_csv('submit.csv', index=False)"
   ]
  },
  {
   "cell_type": "code",
   "execution_count": null,
   "id": "9d12d721",
   "metadata": {
    "papermill": {
     "duration": 0.003123,
     "end_time": "2023-02-14T08:13:52.268793",
     "exception": false,
     "start_time": "2023-02-14T08:13:52.265670",
     "status": "completed"
    },
    "tags": []
   },
   "outputs": [],
   "source": []
  }
 ],
 "metadata": {
  "kernelspec": {
   "display_name": "Python 3",
   "language": "python",
   "name": "python3"
  },
  "language_info": {
   "codemirror_mode": {
    "name": "ipython",
    "version": 3
   },
   "file_extension": ".py",
   "mimetype": "text/x-python",
   "name": "python",
   "nbconvert_exporter": "python",
   "pygments_lexer": "ipython3",
   "version": "3.7.12"
  },
  "papermill": {
   "default_parameters": {},
   "duration": 53.894524,
   "end_time": "2023-02-14T08:13:53.895995",
   "environment_variables": {},
   "exception": null,
   "input_path": "__notebook__.ipynb",
   "output_path": "__notebook__.ipynb",
   "parameters": {},
   "start_time": "2023-02-14T08:13:00.001471",
   "version": "2.3.4"
  }
 },
 "nbformat": 4,
 "nbformat_minor": 5
}
