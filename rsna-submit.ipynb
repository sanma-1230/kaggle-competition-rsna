{
 "cells": [
  {
   "cell_type": "markdown",
   "id": "e4da2129",
   "metadata": {
    "papermill": {
     "duration": 0.002082,
     "end_time": "2023-01-15T09:30:53.614163",
     "exception": false,
     "start_time": "2023-01-15T09:30:53.612081",
     "status": "completed"
    },
    "tags": []
   },
   "source": [
    "# SUBMIT notebook\n",
    "competition : RSNA Screening Mammography Breast Cancer Detection  \n",
    "url : https://www.kaggle.com/competitions/rsna-breast-cancer-detection"
   ]
  },
  {
   "cell_type": "markdown",
   "id": "2074a795",
   "metadata": {
    "papermill": {
     "duration": 0.001077,
     "end_time": "2023-01-15T09:30:53.616805",
     "exception": false,
     "start_time": "2023-01-15T09:30:53.615728",
     "status": "completed"
    },
    "tags": []
   },
   "source": [
    "## import"
   ]
  },
  {
   "cell_type": "raw",
   "id": "d7a1b722",
   "metadata": {
    "papermill": {
     "duration": 0.001033,
     "end_time": "2023-01-15T09:30:53.619094",
     "exception": false,
     "start_time": "2023-01-15T09:30:53.618061",
     "status": "completed"
    },
    "tags": []
   },
   "source": [
    "import os"
   ]
  }
 ],
 "metadata": {
  "kernelspec": {
   "display_name": "Python 3",
   "language": "python",
   "name": "python3"
  },
  "language_info": {
   "codemirror_mode": {
    "name": "ipython",
    "version": 3
   },
   "file_extension": ".py",
   "mimetype": "text/x-python",
   "name": "python",
   "nbconvert_exporter": "python",
   "pygments_lexer": "ipython3",
   "version": "3.7.12"
  },
  "papermill": {
   "default_parameters": {},
   "duration": 8.697281,
   "end_time": "2023-01-15T09:30:54.341009",
   "environment_variables": {},
   "exception": null,
   "input_path": "__notebook__.ipynb",
   "output_path": "__notebook__.ipynb",
   "parameters": {},
   "start_time": "2023-01-15T09:30:45.643728",
   "version": "2.3.4"
  }
 },
 "nbformat": 4,
 "nbformat_minor": 5
}
