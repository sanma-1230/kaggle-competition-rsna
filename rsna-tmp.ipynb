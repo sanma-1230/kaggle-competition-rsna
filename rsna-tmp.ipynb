{
 "cells": [
  {
   "cell_type": "markdown",
   "id": "fdde944b",
   "metadata": {
    "papermill": {
     "duration": 0.004021,
     "end_time": "2023-01-22T10:40:13.005736",
     "exception": false,
     "start_time": "2023-01-22T10:40:13.001715",
     "status": "completed"
    },
    "tags": []
   },
   "source": [
    "# TMP notebook\n",
    "competition : RSNA Screening Mammography Breast Cancer Detection  \n",
    "url : https://www.kaggle.com/competitions/rsna-breast-cancer-detection"
   ]
  },
  {
   "cell_type": "markdown",
   "id": "886aff28",
   "metadata": {
    "papermill": {
     "duration": 0.002481,
     "end_time": "2023-01-22T10:40:13.011225",
     "exception": false,
     "start_time": "2023-01-22T10:40:13.008744",
     "status": "completed"
    },
    "tags": []
   },
   "source": [
    "# 2023/1/22\n",
    "テーブルデータのみのlightgbmでどれくらい精度出るか検証  \n",
    "* 交差検証なし、パラメータチューニングなし\n",
    "\n",
    "## 結果\n",
    "* LB - 0.04"
   ]
  },
  {
   "cell_type": "code",
   "execution_count": 1,
   "id": "b5fbf779",
   "metadata": {
    "execution": {
     "iopub.execute_input": "2023-01-22T10:40:13.018803Z",
     "iopub.status.busy": "2023-01-22T10:40:13.018270Z",
     "iopub.status.idle": "2023-01-22T10:40:16.283625Z",
     "shell.execute_reply": "2023-01-22T10:40:16.282706Z"
    },
    "papermill": {
     "duration": 3.272488,
     "end_time": "2023-01-22T10:40:16.286429",
     "exception": false,
     "start_time": "2023-01-22T10:40:13.013941",
     "status": "completed"
    },
    "tags": []
   },
   "outputs": [
    {
     "data": {
      "text/html": [
       "<style type='text/css'>\n",
       ".datatable table.frame { margin-bottom: 0; }\n",
       ".datatable table.frame thead { border-bottom: none; }\n",
       ".datatable table.frame tr.coltypes td {  color: #FFFFFF;  line-height: 6px;  padding: 0 0.5em;}\n",
       ".datatable .bool    { background: #DDDD99; }\n",
       ".datatable .object  { background: #565656; }\n",
       ".datatable .int     { background: #5D9E5D; }\n",
       ".datatable .float   { background: #4040CC; }\n",
       ".datatable .str     { background: #CC4040; }\n",
       ".datatable .time    { background: #40CC40; }\n",
       ".datatable .row_index {  background: var(--jp-border-color3);  border-right: 1px solid var(--jp-border-color0);  color: var(--jp-ui-font-color3);  font-size: 9px;}\n",
       ".datatable .frame tbody td { text-align: left; }\n",
       ".datatable .frame tr.coltypes .row_index {  background: var(--jp-border-color0);}\n",
       ".datatable th:nth-child(2) { padding-left: 12px; }\n",
       ".datatable .hellipsis {  color: var(--jp-cell-editor-border-color);}\n",
       ".datatable .vellipsis {  background: var(--jp-layout-color0);  color: var(--jp-cell-editor-border-color);}\n",
       ".datatable .na {  color: var(--jp-cell-editor-border-color);  font-size: 80%;}\n",
       ".datatable .sp {  opacity: 0.25;}\n",
       ".datatable .footer { font-size: 9px; }\n",
       ".datatable .frame_dimensions {  background: var(--jp-border-color3);  border-top: 1px solid var(--jp-border-color0);  color: var(--jp-ui-font-color3);  display: inline-block;  opacity: 0.6;  padding: 1px 10px 1px 5px;}\n",
       "</style>\n"
      ],
      "text/plain": [
       "<IPython.core.display.HTML object>"
      ]
     },
     "metadata": {},
     "output_type": "display_data"
    },
    {
     "name": "stdout",
     "output_type": "stream",
     "text": [
      "0.6547945205479452\n",
      "[1 1 1 1]\n"
     ]
    },
    {
     "data": {
      "text/html": [
       "<div>\n",
       "<style scoped>\n",
       "    .dataframe tbody tr th:only-of-type {\n",
       "        vertical-align: middle;\n",
       "    }\n",
       "\n",
       "    .dataframe tbody tr th {\n",
       "        vertical-align: top;\n",
       "    }\n",
       "\n",
       "    .dataframe thead th {\n",
       "        text-align: right;\n",
       "    }\n",
       "</style>\n",
       "<table border=\"1\" class=\"dataframe\">\n",
       "  <thead>\n",
       "    <tr style=\"text-align: right;\">\n",
       "      <th></th>\n",
       "      <th>prediction_id</th>\n",
       "      <th>cancer</th>\n",
       "    </tr>\n",
       "  </thead>\n",
       "  <tbody>\n",
       "    <tr>\n",
       "      <th>0</th>\n",
       "      <td>10008_L</td>\n",
       "      <td>1.0</td>\n",
       "    </tr>\n",
       "    <tr>\n",
       "      <th>1</th>\n",
       "      <td>10008_R</td>\n",
       "      <td>1.0</td>\n",
       "    </tr>\n",
       "  </tbody>\n",
       "</table>\n",
       "</div>"
      ],
      "text/plain": [
       "  prediction_id  cancer\n",
       "0       10008_L     1.0\n",
       "1       10008_R     1.0"
      ]
     },
     "metadata": {},
     "output_type": "display_data"
    }
   ],
   "source": [
    "import pandas as pd\n",
    "import lightgbm as lgb\n",
    "from sklearn.metrics import f1_score\n",
    "from sklearn.model_selection import train_test_split\n",
    "import warnings\n",
    "warnings.simplefilter('ignore')\n",
    "\n",
    "def pre_view(df):\n",
    "    if 'view' in df.columns.tolist():\n",
    "        df['view'] = df['view'].apply(lambda x: x if x=='CC' or x=='MLO' else 'others')\n",
    "    else:\n",
    "        pass\n",
    "    return df\n",
    "\n",
    "train = pd.read_csv('/kaggle/input/rsna-breast-cancer-detection/train.csv')\n",
    "test = pd.read_csv('/kaggle/input/rsna-breast-cancer-detection/test.csv')\n",
    "submit = pd.read_csv('/kaggle/input/rsna-breast-cancer-detection/sample_submission.csv')\n",
    "\n",
    "column = ['laterality', 'view', 'age', 'implant', 'cancer']\n",
    "new_train = train[column]\n",
    "new_train = new_train.dropna()\n",
    "new_train = pre_view(new_train)\n",
    "new_train_dum = pd.get_dummies(new_train)\n",
    "train_cancer = new_train_dum[new_train_dum.cancer==1]\n",
    "train_no_cancer = new_train_dum[new_train_dum.cancer==0]\n",
    "tmp = train_no_cancer.sample(n=1158, random_state=0)\n",
    "concat_train = pd.concat([train_cancer, tmp])\n",
    "\n",
    "concat_train = concat_train.reset_index()\n",
    "X = concat_train.drop(columns=['cancer'])\n",
    "y = concat_train[['cancer']]\n",
    "X_train, X_test, y_train, y_test = train_test_split(X, y, test_size=0.3, random_state=0, stratify=y)\n",
    "# X_test, X_val, y_test, y_val = train_test_split(X_test, y_test, test_size=0.5, random_state=0, stratify=y_test)\n",
    "\n",
    "model = lgb.LGBMClassifier(random_state=0)\n",
    "model.fit(X_train, y_train)\n",
    "pred = model.predict(X_test)\n",
    "print(f1_score(y_test, pred))\n",
    "\n",
    "tmp = test[['laterality', 'view', 'age', 'implant']]\n",
    "tmp = pre_view(tmp)\n",
    "tmp_ = pd.concat([new_train, tmp])\n",
    "tmp_dum = pd.get_dummies(tmp_)\n",
    "tmp_dum = tmp_dum.reset_index()\n",
    "test_X = tmp_dum.iloc[new_train.shape[0]:]\n",
    "test_X = test_X.drop(columns=['cancer'])\n",
    "test_pred = model.predict(test_X)\n",
    "print(test_pred)\n",
    "test_copy = test.copy()\n",
    "test_copy['pred'] = test_pred\n",
    "tmp = test_copy.groupby('prediction_id')['pred'].mean()\n",
    "sub = pd.DataFrame(data={'prediction_id': tmp.index.tolist(), 'cancer': tmp.values.tolist()})\n",
    "display(sub)\n",
    "sub.to_csv('submission.csv', index=None)"
   ]
  },
  {
   "cell_type": "code",
   "execution_count": null,
   "id": "2895e467",
   "metadata": {
    "papermill": {
     "duration": 0.002038,
     "end_time": "2023-01-22T10:40:16.291043",
     "exception": false,
     "start_time": "2023-01-22T10:40:16.289005",
     "status": "completed"
    },
    "tags": []
   },
   "outputs": [],
   "source": []
  },
  {
   "cell_type": "code",
   "execution_count": null,
   "id": "a43cd0ee",
   "metadata": {
    "papermill": {
     "duration": 0.002235,
     "end_time": "2023-01-22T10:40:16.295657",
     "exception": false,
     "start_time": "2023-01-22T10:40:16.293422",
     "status": "completed"
    },
    "tags": []
   },
   "outputs": [],
   "source": []
  }
 ],
 "metadata": {
  "kernelspec": {
   "display_name": "Python 3",
   "language": "python",
   "name": "python3"
  },
  "language_info": {
   "codemirror_mode": {
    "name": "ipython",
    "version": 3
   },
   "file_extension": ".py",
   "mimetype": "text/x-python",
   "name": "python",
   "nbconvert_exporter": "python",
   "pygments_lexer": "ipython3",
   "version": "3.7.12"
  },
  "papermill": {
   "default_parameters": {},
   "duration": 13.75463,
   "end_time": "2023-01-22T10:40:17.421173",
   "environment_variables": {},
   "exception": null,
   "input_path": "__notebook__.ipynb",
   "output_path": "__notebook__.ipynb",
   "parameters": {},
   "start_time": "2023-01-22T10:40:03.666543",
   "version": "2.3.4"
  }
 },
 "nbformat": 4,
 "nbformat_minor": 5
}
