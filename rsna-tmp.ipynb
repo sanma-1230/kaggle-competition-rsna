{
 "cells": [
  {
   "cell_type": "markdown",
   "id": "d358dbba",
   "metadata": {
    "papermill": {
     "duration": 0.002688,
     "end_time": "2023-01-15T09:29:32.393977",
     "exception": false,
     "start_time": "2023-01-15T09:29:32.391289",
     "status": "completed"
    },
    "tags": []
   },
   "source": [
    "# TMP notebook\n",
    "competition : RSNA Screening Mammography Breast Cancer Detection  \n",
    "url : https://www.kaggle.com/competitions/rsna-breast-cancer-detection"
   ]
  },
  {
   "cell_type": "code",
   "execution_count": null,
   "id": "24cd9ead",
   "metadata": {
    "papermill": {
     "duration": 0.001764,
     "end_time": "2023-01-15T09:29:32.398007",
     "exception": false,
     "start_time": "2023-01-15T09:29:32.396243",
     "status": "completed"
    },
    "tags": []
   },
   "outputs": [],
   "source": []
  }
 ],
 "metadata": {
  "kernelspec": {
   "display_name": "Python 3",
   "language": "python",
   "name": "python3"
  },
  "language_info": {
   "codemirror_mode": {
    "name": "ipython",
    "version": 3
   },
   "file_extension": ".py",
   "mimetype": "text/x-python",
   "name": "python",
   "nbconvert_exporter": "python",
   "pygments_lexer": "ipython3",
   "version": "3.7.12"
  },
  "papermill": {
   "default_parameters": {},
   "duration": 11.145777,
   "end_time": "2023-01-15T09:29:33.229133",
   "environment_variables": {},
   "exception": null,
   "input_path": "__notebook__.ipynb",
   "output_path": "__notebook__.ipynb",
   "parameters": {},
   "start_time": "2023-01-15T09:29:22.083356",
   "version": "2.3.4"
  }
 },
 "nbformat": 4,
 "nbformat_minor": 5
}
